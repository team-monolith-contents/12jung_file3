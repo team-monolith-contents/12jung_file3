{
 "cells": [
  {
   "cell_type": "markdown",
   "id": "e06ebcd5-6ae8-4e01-b0aa-f3118cd170fa",
   "metadata": {
    "deletable": false,
    "editable": false
   },
   "source": [
    "#### **덮어쓰기** ####\n",
    "\n",
    "파일에 새로운 내용을 이어서 쓰려면 어떻게 해야할까요?  \n",
    "다음 코드를 **여러 번** 실행해봅시다."
   ]
  },
  {
   "cell_type": "markdown",
   "id": "efb2ae0f-c6d8-49f3-8f7e-890b913686f6",
   "metadata": {
    "deletable": false,
    "editable": false
   },
   "source": [
    "#### **예제 3 : 파일에 내용 추가**"
   ]
  },
  {
   "cell_type": "code",
   "execution_count": null,
   "id": "99eba67a-0d6e-452f-ae4e-b737580e084b",
   "metadata": {
    "codle/previous_execution": {
     "code": "#예제 7-4: 덮어쓰기\n\nf = open(\"name.txt\", \"a\")\nf.write(\"참외\")\nf.write(\"멜론\")\nf.write(\"포도\")\n\nf = open(\"name.txt\", \"r\")\ntext = f.read()    \nprint(text)\nf.close()",
     "id": "5240475"
    }
   },
   "outputs": [],
   "source": [
    "# 예제 3 : 파일에 내용 추가\n",
    "\n",
    "f = open(\"name.txt\", \"a\")\n",
    "f.write(\"참외\")\n",
    "f.write(\"멜론\")\n",
    "f.write(\"포도\")\n",
    "\n",
    "f = open(\"name.txt\", \"r\")\n",
    "text = f.read()    \n",
    "print(text)\n",
    "f.close()"
   ]
  },
  {
   "cell_type": "markdown",
   "id": "fefdf562-ad92-425a-b059-602ecbe85c43",
   "metadata": {
    "deletable": false,
    "editable": false
   },
   "source": [
    "#### 예제 3 해설\n",
    "> file대신에 f를 사용할 수도 있습니다.  \n",
    "file의 내용이 저장되는 변수가 f로 바뀝니다.\n",
    ">\n",
    "> open(\"name\".txt\", \"a\")는 name이라는 txt파일을 append(추가)모드로 여는 명령어입니다.  \n",
    "> 수정 모드에서는 뒤에 파일이 쭉 이어서 써집니다. \n"
   ]
  },
  {
   "cell_type": "markdown",
   "id": "249d3533-083d-48d0-b8d5-3c34af9a1b9d",
   "metadata": {
    "deletable": false,
    "editable": false
   },
   "source": [
    "#### **코드가 어떻게 작동하는지 이해했나요?** ####\n",
    "\n",
    "모드 | 용어 | 의미 | 내용 | 주요 코드\n",
    "--- | --- | --- | --- | ---\n",
    "r | read | 읽기 | 파일의 내용을 읽어 온다 | `f=open(\"a.txt\",\"r\")`, `f.read()`, `f.readlines()`\n",
    "w | write | 쓰기 | 파일을 생성하고 입력 내용을 모두 지운뒤 처음부터 쓴다. | `f=open(\"a.txt\",\"w\")`, `f.write()`\n",
    "a | append | 추가하기 | 파일을 생성하고 입력 내용을 기존 파일 내용의 뒤에 추가한다. | `f=open(\"a.txt\",\"a\")`, `f.write()`\n",
    "\n"
   ]
  },
  {
   "cell_type": "markdown",
   "id": "49dada7d-d47e-4f04-a1f6-bc41298aeec0",
   "metadata": {
    "deletable": false,
    "editable": false,
    "tags": []
   },
   "source": [
    "#### **미션: 일기장**\n",
    "\n",
    "<a class=\"jcecodle-mk jcecodle-mk__problem-chip\" data-problem-id=\"eeZ7g0h-5YA\" href='#jce-judge/open/eeZ7g0h-5YA' target='_self'><span>미션 : 일기장</span></a>\n",
    "\n",
    "\n",
    "*  dairy.txt파일을 수정 모드로 여세요.\n",
    "*  오늘 날짜를 변수 month와 day에 숫자로 입력합니다.\n",
    "*  변수 content에 일기장에 쓸 내용을 입력합니다.\n"
   ]
  }
 ],
 "metadata": {
  "kernelspec": {
   "display_name": "Python 3 (ipykernel)",
   "language": "python",
   "name": "python3"
  },
  "language_info": {
   "codemirror_mode": {
    "name": "ipython",
    "version": 3
   },
   "file_extension": ".py",
   "mimetype": "text/x-python",
   "name": "python",
   "nbconvert_exporter": "python",
   "pygments_lexer": "ipython3",
   "version": "3.10.13"
  },
  "read_only": true
 },
 "nbformat": 4,
 "nbformat_minor": 5
}
